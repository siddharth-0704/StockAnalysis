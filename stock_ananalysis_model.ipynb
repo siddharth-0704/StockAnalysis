{
  "nbformat": 4,
  "nbformat_minor": 0,
  "metadata": {
    "colab": {
      "provenance": [],
      "authorship_tag": "ABX9TyMChn3v8MvZ+zyLdBe16aNH",
      "include_colab_link": true
    },
    "kernelspec": {
      "name": "python3",
      "display_name": "Python 3"
    },
    "language_info": {
      "name": "python"
    }
  },
  "cells": [
    {
      "cell_type": "markdown",
      "metadata": {
        "id": "view-in-github",
        "colab_type": "text"
      },
      "source": [
        "<a href=\"https://colab.research.google.com/github/siddharth-0704/StockAnalysis/blob/main/stock_ananalysis_model.ipynb\" target=\"_parent\"><img src=\"https://colab.research.google.com/assets/colab-badge.svg\" alt=\"Open In Colab\"/></a>"
      ]
    },
    {
      "cell_type": "code",
      "execution_count": null,
      "metadata": {
        "id": "3iDx64DbnBzy",
        "colab": {
          "base_uri": "https://localhost:8080/"
        },
        "outputId": "6ed4b590-24e3-4224-bd48-5c86aac953c5"
      },
      "outputs": [
        {
          "output_type": "stream",
          "name": "stdout",
          "text": [
            "Requirement already satisfied: pandas in /usr/local/lib/python3.10/dist-packages (2.2.2)\n",
            "Collecting pandas\n",
            "  Downloading pandas-2.2.3-cp310-cp310-manylinux_2_17_x86_64.manylinux2014_x86_64.whl.metadata (89 kB)\n",
            "\u001b[2K     \u001b[90m━━━━━━━━━━━━━━━━━━━━━━━━━━━━━━━━━━━━━━━━\u001b[0m \u001b[32m89.9/89.9 kB\u001b[0m \u001b[31m7.0 MB/s\u001b[0m eta \u001b[36m0:00:00\u001b[0m\n",
            "\u001b[?25hRequirement already satisfied: numpy>=1.22.4 in /usr/local/lib/python3.10/dist-packages (from pandas) (1.26.4)\n",
            "Requirement already satisfied: python-dateutil>=2.8.2 in /usr/local/lib/python3.10/dist-packages (from pandas) (2.8.2)\n",
            "Requirement already satisfied: pytz>=2020.1 in /usr/local/lib/python3.10/dist-packages (from pandas) (2024.2)\n",
            "Requirement already satisfied: tzdata>=2022.7 in /usr/local/lib/python3.10/dist-packages (from pandas) (2024.2)\n",
            "Requirement already satisfied: six>=1.5 in /usr/local/lib/python3.10/dist-packages (from python-dateutil>=2.8.2->pandas) (1.16.0)\n",
            "Downloading pandas-2.2.3-cp310-cp310-manylinux_2_17_x86_64.manylinux2014_x86_64.whl (13.1 MB)\n",
            "\u001b[2K   \u001b[90m━━━━━━━━━━━━━━━━━━━━━━━━━━━━━━━━━━━━━━━━\u001b[0m \u001b[32m13.1/13.1 MB\u001b[0m \u001b[31m74.7 MB/s\u001b[0m eta \u001b[36m0:00:00\u001b[0m\n",
            "\u001b[?25hInstalling collected packages: pandas\n",
            "  Attempting uninstall: pandas\n",
            "    Found existing installation: pandas 2.2.2\n",
            "    Uninstalling pandas-2.2.2:\n",
            "      Successfully uninstalled pandas-2.2.2\n",
            "\u001b[31mERROR: pip's dependency resolver does not currently take into account all the packages that are installed. This behaviour is the source of the following dependency conflicts.\n",
            "cudf-cu12 24.10.1 requires pandas<2.2.3dev0,>=2.0, but you have pandas 2.2.3 which is incompatible.\n",
            "google-colab 1.0.0 requires pandas==2.2.2, but you have pandas 2.2.3 which is incompatible.\u001b[0m\u001b[31m\n",
            "\u001b[0mSuccessfully installed pandas-2.2.3\n"
          ]
        }
      ],
      "source": [
        "!pip install --upgrade pandas"
      ]
    },
    {
      "cell_type": "code",
      "source": [
        "import yfinance as yf\n",
        "import torch\n",
        "import numpy as np\n",
        "from tqdm import tqdm\n",
        "from scipy import special\n",
        "import seaborn as sns\n",
        "import matplotlib.pyplot as plt"
      ],
      "metadata": {
        "id": "aCuJwP-h8VXk"
      },
      "execution_count": null,
      "outputs": []
    },
    {
      "cell_type": "code",
      "source": [
        "def fetch_data(ticker, start_date, end_date):\n",
        "\n",
        "    data = yf.download(ticker, start=start_date, end=end_date)\n",
        "\n",
        "    data['Returns'] = data['Adj Close'].pct_change()\n",
        "    data.dropna(inplace=True)\n",
        "    return data['Returns'].values"
      ],
      "metadata": {
        "id": "E0xgDCJenK5g"
      },
      "execution_count": null,
      "outputs": []
    },
    {
      "cell_type": "code",
      "source": [
        "def train_gbm(data):\n",
        "    device = torch.device(\"cuda:0\" if torch.cuda.is_available() else \"cpu\")\n",
        "\n",
        "    W = torch.tensor(data + 1, device=device).float().view(-1, 1)\n",
        "    W_init = torch.cat((torch.ones((W.size(0), 1)).to(device), W), dim=1)[:, :-1]\n",
        "\n",
        "    dT_init = np.ones(W.size(1)).astype(float)\n",
        "    sigma_init = np.random.randn(W.size(1)) * 0.01 + 1\n",
        "    mu_param = torch.tensor(np.random.randn(W.size(1)) * 0.01, device=device).requires_grad_(True)\n",
        "\n",
        "    with torch.no_grad():\n",
        "        dT_param_log = torch.log(torch.tensor(dT_init)).to(device).requires_grad_(True)\n",
        "        sigma_param_log = torch.log(torch.tensor(sigma_init)).to(device).requires_grad_(True)\n",
        "\n",
        "    opt = torch.optim.Adam([dT_param_log, sigma_param_log, mu_param], lr=0.001)\n",
        "    for iteration in tqdm(range(15000)):\n",
        "        opt.zero_grad()\n",
        "        dT_log = torch.cat([torch.zeros(1, device=device), dT_param_log])\n",
        "        dT = torch.exp(dT_log).view((1, -1))\n",
        "        sigmas = torch.exp(sigma_param_log).view((-1, 1))\n",
        "        mus = mu_param.view((-1, 1))\n",
        "        ln_W = torch.log(W)\n",
        "        ln_W_init = torch.log(W_init)\n",
        "        log_prob = -ln_W - torch.log(sigmas) - 0.5 * torch.log(dT) - (\n",
        "            ln_W - ln_W_init - (mus - 0.5 * sigmas**2) @ dT\n",
        "        ) ** 2 / (2 * sigmas**2 @ dT)\n",
        "        row_likelihood = log_prob.sum(dim=1)\n",
        "        total_likelihood = row_likelihood.mean(dim=0)\n",
        "        negative_total_likelihood = -total_likelihood\n",
        "        if iteration % 1000 == 0:\n",
        "            print(negative_total_likelihood)\n",
        "        negative_total_likelihood.backward()\n",
        "        opt.step()\n",
        "\n",
        "    times = torch.exp(torch.cat([torch.zeros(1, device=device), dT_param_log])).cumsum(dim=0)\n",
        "    mus = mu_param.detach().cpu().numpy()\n",
        "    sigmas = torch.exp(sigma_param_log).detach().cpu().numpy()\n",
        "    horizons = times.detach().cpu().numpy()\n",
        "\n",
        "    return mus, sigmas, horizons\n"
      ],
      "metadata": {
        "id": "x257WtdVnUGH"
      },
      "execution_count": null,
      "outputs": []
    },
    {
      "cell_type": "code",
      "source": [
        "def analyze_stock_for_tomorrow(data, mus, sigmas, horizons):\n",
        "    horizon = horizons[0]\n",
        "    expected_return = np.exp(mus * horizon) - 1\n",
        "    lam = sigmas * np.sqrt(horizon)\n",
        "    row = (mus - 0.5 * sigmas**2) * horizon\n",
        "    probability_greater_zero = 0.5 - 0.5 * special.erf(-row / (np.sqrt(2) * lam))\n",
        "    return expected_return, probability_greater_zero\n"
      ],
      "metadata": {
        "id": "RUBHhn8mngS1"
      },
      "execution_count": null,
      "outputs": []
    },
    {
      "cell_type": "code",
      "source": [
        "def ai_agent_for_tomorrow(ticker, start_date, end_date):\n",
        "    data = yf.download(ticker, start=start_date, end=end_date)[\"Adj Close\"]\n",
        "    log_returns = np.log(data / data.shift(1)).dropna().values\n",
        "    mus, sigmas, horizons = train_gbm(log_returns)\n",
        "    result = analyze_stock_for_tomorrow(log_returns, mus, sigmas, horizons)\n",
        "\n",
        "\n",
        "    return data, log_returns, mus, sigmas, horizons, result\n"
      ],
      "metadata": {
        "id": "sxUyUflmnjlg"
      },
      "execution_count": null,
      "outputs": []
    },
    {
      "cell_type": "code",
      "source": [
        "def plot_visualizations(ticker, start_date, end_date):\n",
        "    data, log_returns, mus, sigmas, horizons, result = ai_agent_for_tomorrow(ticker, start_date, end_date)\n",
        "\n",
        "\n",
        "    n = len(data)\n",
        "    mus = mus[:n]\n",
        "    sigmas = sigmas[:n]\n",
        "    horizons = horizons[:n]\n",
        "\n",
        "    plt.figure(figsize=(10, 6))\n",
        "    sns.lineplot(data=data)\n",
        "    plt.title(f'{ticker} Stock Price History')\n",
        "    plt.xlabel('Date')\n",
        "    plt.ylabel('Price')\n",
        "    plt.xticks(rotation=45)\n",
        "    plt.tight_layout()\n",
        "    plt.show()\n",
        "\n",
        "    plt.figure(figsize=(10, 6))\n",
        "    sns.histplot(log_returns, kde=True, bins=50)\n",
        "    plt.title(f'{ticker} Log Returns Distribution')\n",
        "    plt.xlabel('Log Return')\n",
        "    plt.ylabel('Frequency')\n",
        "    plt.tight_layout()\n",
        "    plt.show()\n",
        "\n",
        "    return result"
      ],
      "metadata": {
        "id": "JqfC-I_BrgYq"
      },
      "execution_count": null,
      "outputs": []
    },
    {
      "cell_type": "code",
      "source": [
        "plot_visualizations(\"AAPL\", \"2022-01-01\", \"2023-11-20\")\n",
        "result = ai_agent_for_tomorrow(\"AAPL\", \"2022-01-01\", \"2024-11-20\")\n",
        "print(\"\\nAI Agent Analysis:\")\n",
        "print(result)\n"
      ],
      "metadata": {
        "colab": {
          "base_uri": "https://localhost:8080/",
          "height": 1000
        },
        "id": "Ze60qXYLntcO",
        "outputId": "69bde648-ad6e-4760-eea0-53689356fe53"
      },
      "execution_count": null,
      "outputs": [
        {
          "output_type": "stream",
          "name": "stderr",
          "text": [
            "[*********************100%***********************]  1 of 1 completed\n",
            "  0%|          | 51/15000 [00:00<00:56, 266.32it/s]"
          ]
        },
        {
          "output_type": "stream",
          "name": "stdout",
          "text": [
            "tensor(0.2490, dtype=torch.float64, grad_fn=<NegBackward0>)\n"
          ]
        },
        {
          "output_type": "stream",
          "name": "stderr",
          "text": [
            "  7%|▋         | 1076/15000 [00:01<00:24, 575.69it/s]"
          ]
        },
        {
          "output_type": "stream",
          "name": "stdout",
          "text": [
            "tensor(-2.3438, dtype=torch.float64, grad_fn=<NegBackward0>)\n"
          ]
        },
        {
          "output_type": "stream",
          "name": "stderr",
          "text": [
            " 14%|█▍        | 2098/15000 [00:03<00:22, 573.24it/s]"
          ]
        },
        {
          "output_type": "stream",
          "name": "stdout",
          "text": [
            "tensor(-4.7179, dtype=torch.float64, grad_fn=<NegBackward0>)\n"
          ]
        },
        {
          "output_type": "stream",
          "name": "stderr",
          "text": [
            " 20%|██        | 3053/15000 [00:06<00:31, 381.34it/s]"
          ]
        },
        {
          "output_type": "stream",
          "name": "stdout",
          "text": [
            "tensor(-6.1535, dtype=torch.float64, grad_fn=<NegBackward0>)\n"
          ]
        },
        {
          "output_type": "stream",
          "name": "stderr",
          "text": [
            " 27%|██▋       | 4067/15000 [00:08<00:17, 613.68it/s]"
          ]
        },
        {
          "output_type": "stream",
          "name": "stdout",
          "text": [
            "tensor(-6.4955, dtype=torch.float64, grad_fn=<NegBackward0>)\n"
          ]
        },
        {
          "output_type": "stream",
          "name": "stderr",
          "text": [
            " 34%|███▍      | 5102/15000 [00:10<00:16, 590.32it/s]"
          ]
        },
        {
          "output_type": "stream",
          "name": "stdout",
          "text": [
            "tensor(-6.7812, dtype=torch.float64, grad_fn=<NegBackward0>)\n"
          ]
        },
        {
          "output_type": "stream",
          "name": "stderr",
          "text": [
            " 41%|████      | 6099/15000 [00:11<00:14, 595.47it/s]"
          ]
        },
        {
          "output_type": "stream",
          "name": "stdout",
          "text": [
            "tensor(-6.9272, dtype=torch.float64, grad_fn=<NegBackward0>)\n"
          ]
        },
        {
          "output_type": "stream",
          "name": "stderr",
          "text": [
            " 47%|████▋     | 7075/15000 [00:13<00:13, 566.19it/s]"
          ]
        },
        {
          "output_type": "stream",
          "name": "stdout",
          "text": [
            "tensor(-6.9561, dtype=torch.float64, grad_fn=<NegBackward0>)\n"
          ]
        },
        {
          "output_type": "stream",
          "name": "stderr",
          "text": [
            " 54%|█████▍    | 8088/15000 [00:15<00:11, 613.37it/s]"
          ]
        },
        {
          "output_type": "stream",
          "name": "stdout",
          "text": [
            "tensor(-6.9575, dtype=torch.float64, grad_fn=<NegBackward0>)\n"
          ]
        },
        {
          "output_type": "stream",
          "name": "stderr",
          "text": [
            " 60%|██████    | 9046/15000 [00:18<00:21, 275.68it/s]"
          ]
        },
        {
          "output_type": "stream",
          "name": "stdout",
          "text": [
            "tensor(-6.9574, dtype=torch.float64, grad_fn=<NegBackward0>)\n"
          ]
        },
        {
          "output_type": "stream",
          "name": "stderr",
          "text": [
            " 67%|██████▋   | 10063/15000 [00:20<00:12, 379.86it/s]"
          ]
        },
        {
          "output_type": "stream",
          "name": "stdout",
          "text": [
            "tensor(-6.9575, dtype=torch.float64, grad_fn=<NegBackward0>)\n"
          ]
        },
        {
          "output_type": "stream",
          "name": "stderr",
          "text": [
            " 74%|███████▍  | 11088/15000 [00:23<00:07, 555.55it/s]"
          ]
        },
        {
          "output_type": "stream",
          "name": "stdout",
          "text": [
            "tensor(-6.9575, dtype=torch.float64, grad_fn=<NegBackward0>)\n"
          ]
        },
        {
          "output_type": "stream",
          "name": "stderr",
          "text": [
            " 81%|████████  | 12103/15000 [00:25<00:05, 489.08it/s]"
          ]
        },
        {
          "output_type": "stream",
          "name": "stdout",
          "text": [
            "tensor(-6.9575, dtype=torch.float64, grad_fn=<NegBackward0>)\n"
          ]
        },
        {
          "output_type": "stream",
          "name": "stderr",
          "text": [
            " 87%|████████▋ | 13097/15000 [00:27<00:03, 612.11it/s]"
          ]
        },
        {
          "output_type": "stream",
          "name": "stdout",
          "text": [
            "tensor(-6.9575, dtype=torch.float64, grad_fn=<NegBackward0>)\n"
          ]
        },
        {
          "output_type": "stream",
          "name": "stderr",
          "text": [
            " 94%|█████████▍| 14092/15000 [00:28<00:01, 616.20it/s]"
          ]
        },
        {
          "output_type": "stream",
          "name": "stdout",
          "text": [
            "tensor(-6.9575, dtype=torch.float64, grad_fn=<NegBackward0>)\n"
          ]
        },
        {
          "output_type": "stream",
          "name": "stderr",
          "text": [
            "100%|██████████| 15000/15000 [00:30<00:00, 490.83it/s]\n"
          ]
        },
        {
          "output_type": "display_data",
          "data": {
            "text/plain": [
              "<Figure size 1000x600 with 1 Axes>"
            ],
            "image/png": "[encoded data removed]"
          },
          "metadata": {}
        },
        {
          "output_type": "display_data",
          "data": {
            "text/plain": [
              "<Figure size 1000x600 with 1 Axes>"
            ],
            "image/png": "[encoded data removed]"
          },
          "metadata": {}
        },
        {
          "output_type": "stream",
          "name": "stderr",
          "text": [
            "[*********************100%***********************]  1 of 1 completed\n",
            "  0%|          | 39/15000 [00:00<00:39, 381.74it/s]"
          ]
        },
        {
          "output_type": "stream",
          "name": "stdout",
          "text": [
            "tensor(0.2522, dtype=torch.float64, grad_fn=<NegBackward0>)\n"
          ]
        },
        {
          "output_type": "stream",
          "name": "stderr",
          "text": [
            "  7%|▋         | 1104/15000 [00:02<00:27, 498.47it/s]"
          ]
        },
        {
          "output_type": "stream",
          "name": "stdout",
          "text": [
            "tensor(-2.3622, dtype=torch.float64, grad_fn=<NegBackward0>)\n"
          ]
        },
        {
          "output_type": "stream",
          "name": "stderr",
          "text": [
            " 14%|█▍        | 2108/15000 [00:04<00:22, 561.36it/s]"
          ]
        },
        {
          "output_type": "stream",
          "name": "stdout",
          "text": [
            "tensor(-4.7465, dtype=torch.float64, grad_fn=<NegBackward0>)\n"
          ]
        },
        {
          "output_type": "stream",
          "name": "stderr",
          "text": [
            " 21%|██        | 3087/15000 [00:06<00:21, 555.05it/s]"
          ]
        },
        {
          "output_type": "stream",
          "name": "stdout",
          "text": [
            "tensor(-6.2682, dtype=torch.float64, grad_fn=<NegBackward0>)\n"
          ]
        },
        {
          "output_type": "stream",
          "name": "stderr",
          "text": [
            " 27%|██▋       | 4061/15000 [00:08<00:20, 546.28it/s]"
          ]
        },
        {
          "output_type": "stream",
          "name": "stdout",
          "text": [
            "tensor(-6.6255, dtype=torch.float64, grad_fn=<NegBackward0>)\n"
          ]
        },
        {
          "output_type": "stream",
          "name": "stderr",
          "text": [
            " 34%|███▎      | 5035/15000 [00:10<00:17, 567.75it/s]"
          ]
        },
        {
          "output_type": "stream",
          "name": "stdout",
          "text": [
            "tensor(-6.9221, dtype=torch.float64, grad_fn=<NegBackward0>)\n"
          ]
        },
        {
          "output_type": "stream",
          "name": "stderr",
          "text": [
            " 40%|████      | 6064/15000 [00:13<00:21, 408.74it/s]"
          ]
        },
        {
          "output_type": "stream",
          "name": "stdout",
          "text": [
            "tensor(-7.0836, dtype=torch.float64, grad_fn=<NegBackward0>)\n"
          ]
        },
        {
          "output_type": "stream",
          "name": "stderr",
          "text": [
            " 47%|████▋     | 7051/15000 [00:16<00:22, 358.54it/s]"
          ]
        },
        {
          "output_type": "stream",
          "name": "stdout",
          "text": [
            "tensor(-7.1189, dtype=torch.float64, grad_fn=<NegBackward0>)\n"
          ]
        },
        {
          "output_type": "stream",
          "name": "stderr",
          "text": [
            " 53%|█████▎    | 8001/15000 [00:17<00:12, 569.13it/s]"
          ]
        },
        {
          "output_type": "stream",
          "name": "stdout",
          "text": [
            "tensor(-7.1209, dtype=torch.float64, grad_fn=<NegBackward0>)\n"
          ]
        },
        {
          "output_type": "stream",
          "name": "stderr",
          "text": [
            " 60%|██████    | 9054/15000 [00:20<00:10, 556.97it/s]"
          ]
        },
        {
          "output_type": "stream",
          "name": "stdout",
          "text": [
            "tensor(-7.1210, dtype=torch.float64, grad_fn=<NegBackward0>)\n"
          ]
        },
        {
          "output_type": "stream",
          "name": "stderr",
          "text": [
            " 67%|██████▋   | 10099/15000 [00:22<00:09, 539.62it/s]"
          ]
        },
        {
          "output_type": "stream",
          "name": "stdout",
          "text": [
            "tensor(-7.1210, dtype=torch.float64, grad_fn=<NegBackward0>)\n"
          ]
        },
        {
          "output_type": "stream",
          "name": "stderr",
          "text": [
            " 74%|███████▎  | 11030/15000 [00:25<00:18, 214.85it/s]"
          ]
        },
        {
          "output_type": "stream",
          "name": "stdout",
          "text": [
            "tensor(-7.1210, dtype=torch.float64, grad_fn=<NegBackward0>)\n"
          ]
        },
        {
          "output_type": "stream",
          "name": "stderr",
          "text": [
            " 81%|████████  | 12090/15000 [00:28<00:07, 411.15it/s]"
          ]
        },
        {
          "output_type": "stream",
          "name": "stdout",
          "text": [
            "tensor(-7.1210, dtype=torch.float64, grad_fn=<NegBackward0>)\n"
          ]
        },
        {
          "output_type": "stream",
          "name": "stderr",
          "text": [
            " 87%|████████▋ | 13008/15000 [00:32<00:21, 90.72it/s] "
          ]
        },
        {
          "output_type": "stream",
          "name": "stdout",
          "text": [
            "tensor(-7.1210, dtype=torch.float64, grad_fn=<NegBackward0>)\n"
          ]
        },
        {
          "output_type": "stream",
          "name": "stderr",
          "text": [
            " 94%|█████████▍| 14080/15000 [00:37<00:02, 329.64it/s]"
          ]
        },
        {
          "output_type": "stream",
          "name": "stdout",
          "text": [
            "tensor(-7.1210, dtype=torch.float64, grad_fn=<NegBackward0>)\n"
          ]
        },
        {
          "output_type": "stream",
          "name": "stderr",
          "text": [
            "100%|██████████| 15000/15000 [00:39<00:00, 384.44it/s]"
          ]
        },
        {
          "output_type": "stream",
          "name": "stdout",
          "text": [
            "\n",
            "AI Agent Analysis:\n",
            "(Ticker                           AAPL\n",
            "Date                                 \n",
            "2022-01-03 00:00:00+00:00  179.076584\n",
            "2022-01-04 00:00:00+00:00  176.803833\n",
            "2022-01-05 00:00:00+00:00  172.100861\n",
            "2022-01-06 00:00:00+00:00  169.227936\n",
            "2022-01-07 00:00:00+00:00  169.395187\n",
            "...                               ...\n",
            "2024-11-13 00:00:00+00:00  225.119995\n",
            "2024-11-14 00:00:00+00:00  228.220001\n",
            "2024-11-15 00:00:00+00:00  225.000000\n",
            "2024-11-18 00:00:00+00:00  228.020004\n",
            "2024-11-19 00:00:00+00:00  228.279999\n",
            "\n",
            "[725 rows x 1 columns], array([[-1.27727273e-02],\n",
            "       [-2.69601261e-02],\n",
            "       [-1.68341651e-02],\n",
            "       [ 9.87833311e-04],\n",
            "       [ 1.16193941e-04],\n",
            "       [ 1.66445331e-02],\n",
            "       [ 2.56678816e-03],\n",
            "       [-1.92113213e-02],\n",
            "       [ 5.09768990e-03],\n",
            "       [-1.90750558e-02],\n",
            "       [-2.12488296e-02],\n",
            "       [-1.04011814e-02],\n",
            "       [-1.28471173e-02],\n",
            "       [-4.87638677e-03],\n",
            "       [-1.14496667e-02],\n",
            "       [-5.63512777e-04],\n",
            "       [-2.94749384e-03],\n",
            "       [ 6.74508031e-02],\n",
            "       [ 2.57902176e-02],\n",
            "       [-9.73252416e-04],\n",
            "       [ 7.01974159e-03],\n",
            "       [-1.68611388e-02],\n",
            "       [-1.68082256e-03],\n",
            "       [-4.24337673e-03],\n",
            "       [ 1.82979126e-02],\n",
            "       [ 8.25967468e-03],\n",
            "       [-2.38816797e-02],\n",
            "       [-2.04255978e-02],\n",
            "       [ 1.42215085e-03],\n",
            "       [ 2.28884796e-02],\n",
            "       [-1.38967800e-03],\n",
            "       [-2.14988016e-02],\n",
            "       [-9.39962497e-03],\n",
            "       [-1.79729965e-02],\n",
            "       [-2.62046046e-02],\n",
            "       [ 1.65425839e-02],\n",
            "       [ 1.28821669e-02],\n",
            "       [ 1.63663292e-03],\n",
            "       [-1.16962384e-02],\n",
            "       [ 2.03793442e-02],\n",
            "       [-1.98337898e-03],\n",
            "       [-1.85798192e-02],\n",
            "       [-2.40031306e-02],\n",
            "       [-1.17450594e-02],\n",
            "       [ 3.43991473e-02],\n",
            "       [-2.75625064e-02],\n",
            "       [-2.41994326e-02],\n",
            "       [-2.69214029e-02],\n",
            "       [ 2.92454050e-02],\n",
            "       [ 2.86025653e-02],\n",
            "       [ 6.43341749e-03],\n",
            "       [ 2.07029439e-02],\n",
            "       [ 8.50141606e-03],\n",
            "       [ 2.05872005e-02],\n",
            "       [ 8.19999450e-03],\n",
            "       [ 2.24244551e-02],\n",
            "       [ 3.72715321e-03],\n",
            "       [ 5.02412172e-03],\n",
            "       [ 1.89535419e-02],\n",
            "       [-6.67158999e-03],\n",
            "       [-1.79356900e-02],\n",
            "       [-1.71971851e-03],\n",
            "       [ 2.34170222e-02],\n",
            "       [-1.91236123e-02],\n",
            "       [-1.86232459e-02],\n",
            "       [ 1.80273575e-03],\n",
            "       [-1.19804851e-02],\n",
            "       [-2.58471956e-02],\n",
            "       [ 1.14576505e-02],\n",
            "       [ 1.62103420e-02],\n",
            "       [-3.04470694e-02],\n",
            "       [-1.33172830e-03],\n",
            "       [ 1.40164114e-02],\n",
            "       [-1.01618409e-03],\n",
            "       [-4.85519673e-03],\n",
            "       [-2.82157332e-02],\n",
            "       [ 6.71458424e-03],\n",
            "       [-3.80424818e-02],\n",
            "       [-1.46788956e-03],\n",
            "       [ 4.41658097e-02],\n",
            "       [-3.72917046e-02],\n",
            "       [ 1.96462734e-03],\n",
            "       [ 9.57647837e-03],\n",
            "       [ 4.01898378e-02],\n",
            "       [-5.73285179e-02],\n",
            "       [ 4.71588935e-03],\n",
            "       [-3.37524414e-02],\n",
            "       [ 1.59838300e-02],\n",
            "       [-5.32334059e-02],\n",
            "       [-2.72626022e-02],\n",
            "       [ 3.14178180e-02],\n",
            "       [-1.07297330e-02],\n",
            "       [ 2.51047759e-02],\n",
            "       [-5.80731489e-02],\n",
            "       [-2.49500601e-02],\n",
            "       [ 1.74576515e-03],\n",
            "       [ 3.93353762e-02],\n",
            "       [-1.94032164e-02],\n",
            "       [ 1.13937749e-03],\n",
            "       [ 2.29344068e-02],\n",
            "       [ 3.99480872e-02],\n",
            "       [-5.36056617e-03],\n",
            "       [-8.73763214e-04],\n",
            "       [ 1.66716071e-02],\n",
            "       [-3.93184846e-02],\n",
            "       [ 5.21383374e-03],\n",
            "       [ 1.74330437e-02],\n",
            "       [-5.05607298e-03],\n",
            "       [-3.66176612e-02],\n",
            "       [-3.93950471e-02],\n",
            "       [-3.90367227e-02],\n",
            "       [ 6.65045540e-03],\n",
            "       [ 1.99117321e-02],\n",
            "       [-4.04588004e-02],\n",
            "       [ 1.14673538e-02],\n",
            "       [ 3.22354352e-02],\n",
            "       [-3.83469808e-03],\n",
            "       [ 2.13444143e-02],\n",
            "       [ 2.42215785e-02],\n",
            "       [ 0.00000000e+00],\n",
            "       [-3.02425131e-02],\n",
            "       [ 1.29397128e-02],\n",
            "       [-1.81922586e-02],\n",
            "       [ 1.60353409e-02],\n",
            "       [ 1.87535182e-02],\n",
            "       [ 9.56124430e-03],\n",
            "       [ 2.37159001e-02],\n",
            "       [ 4.70383747e-03],\n",
            "       [-1.48679524e-02],\n",
            "       [ 6.81044630e-03],\n",
            "       [-2.53979459e-03],\n",
            "       [ 2.02754341e-02],\n",
            "       [ 1.13851170e-02],\n",
            "       [-2.08593191e-02],\n",
            "       [ 2.63712594e-02],\n",
            "       [ 1.34193016e-02],\n",
            "       [ 1.49814946e-02],\n",
            "       [-8.14383344e-03],\n",
            "       [-7.42580350e-03],\n",
            "       [-8.86563234e-03],\n",
            "       [ 3.36617888e-02],\n",
            "       [ 3.56531330e-03],\n",
            "       [ 3.22669173e-02],\n",
            "       [-6.17240358e-03],\n",
            "       [-9.33073012e-03],\n",
            "       [ 3.75343460e-02],\n",
            "       [-1.92804386e-03],\n",
            "       [-1.39023544e-03],\n",
            "       [-2.90721469e-03],\n",
            "       [ 3.03379745e-04],\n",
            "       [ 2.58574751e-02],\n",
            "       [-4.44152108e-03],\n",
            "       [ 2.11992833e-02],\n",
            "       [ 6.31348420e-03],\n",
            "       [-9.24138045e-04],\n",
            "       [ 8.74617022e-03],\n",
            "       [-2.29426888e-03],\n",
            "       [-1.52168905e-02],\n",
            "       [-2.32987867e-02],\n",
            "       [-2.03098603e-03],\n",
            "       [ 1.79214659e-03],\n",
            "       [ 1.48124082e-02],\n",
            "       [-3.84281643e-02],\n",
            "       [-1.37847978e-02],\n",
            "       [-1.54237215e-02],\n",
            "       [-1.06921257e-02],\n",
            "       [ 4.69578917e-03],\n",
            "       [-1.37044035e-02],\n",
            "       [-8.24929885e-03],\n",
            "       [ 9.21144867e-03],\n",
            "       [-9.66461167e-03],\n",
            "       [ 1.86646995e-02],\n",
            "       [ 3.77852003e-02],\n",
            "       [-6.04717729e-02],\n",
            "       [ 9.51006872e-03],\n",
            "       [-1.91113466e-02],\n",
            "       [-1.10207891e-02],\n",
            "       [ 2.47736217e-02],\n",
            "       [ 1.55441437e-02],\n",
            "       [-2.04760752e-02],\n",
            "       [-6.39546844e-03],\n",
            "       [-1.52394083e-02],\n",
            "       [ 2.25755086e-03],\n",
            "       [ 6.54502000e-03],\n",
            "       [-1.27323219e-02],\n",
            "       [-5.03663163e-02],\n",
            "       [-3.05000114e-02],\n",
            "       [ 3.02891513e-02],\n",
            "       [ 2.53003599e-02],\n",
            "       [ 2.05128515e-03],\n",
            "       [-6.64781596e-03],\n",
            "       [-3.74097132e-02],\n",
            "       [ 2.35281711e-03],\n",
            "       [-1.03077728e-02],\n",
            "       [-4.61585789e-03],\n",
            "       [ 3.30605337e-02],\n",
            "       [-3.27713059e-02],\n",
            "       [ 2.87067238e-02],\n",
            "       [ 9.36541206e-03],\n",
            "       [ 7.64804018e-04],\n",
            "       [-3.27210214e-03],\n",
            "       [ 2.66993612e-02],\n",
            "       [ 1.46940891e-02],\n",
            "       [ 1.91532167e-02],\n",
            "       [-1.98223892e-02],\n",
            "       [-3.09390638e-02],\n",
            "       [ 7.28343956e-02],\n",
            "       [-1.55300890e-02],\n",
            "       [-1.76984781e-02],\n",
            "       [-3.80187672e-02],\n",
            "       [-4.33303076e-02],\n",
            "       [-1.94929481e-03],\n",
            "       [ 3.89479727e-03],\n",
            "       [ 4.16633787e-03],\n",
            "       [-3.37531331e-02],\n",
            "       [ 8.52363757e-02],\n",
            "       [ 1.90854682e-02],\n",
            "       [-9.53094622e-03],\n",
            "       [ 1.17995430e-02],\n",
            "       [-8.36595770e-03],\n",
            "       [ 1.28877697e-02],\n",
            "       [ 3.77473669e-03],\n",
            "       [-2.19186747e-02],\n",
            "       [ 1.45548206e-02],\n",
            "       [ 5.90872459e-03],\n",
            "       [-1.97878726e-02],\n",
            "       [-2.66155311e-02],\n",
            "       [-2.13751061e-02],\n",
            "       [ 4.74502814e-02],\n",
            "       [ 1.88970908e-03],\n",
            "       [-3.37711640e-03],\n",
            "       [-8.01528746e-03],\n",
            "       [-2.56972506e-02],\n",
            "       [-1.38808601e-02],\n",
            "       [ 1.20597727e-02],\n",
            "       [-3.44095242e-03],\n",
            "       [ 1.62572442e-02],\n",
            "       [ 6.75958687e-03],\n",
            "       [-1.56576823e-02],\n",
            "       [-4.79875356e-02],\n",
            "       [-1.46862438e-02],\n",
            "       [-1.60375662e-02],\n",
            "       [-5.28986306e-04],\n",
            "       [ 2.35304893e-02],\n",
            "       [-2.40597556e-02],\n",
            "       [-2.80196275e-03],\n",
            "       [-1.39754641e-02],\n",
            "       [-3.11659408e-02],\n",
            "       [ 2.79306513e-02],\n",
            "       [ 2.46586921e-03],\n",
            "       [-3.81223334e-02],\n",
            "       [ 1.02614989e-02],\n",
            "       [-1.06612686e-02],\n",
            "       [ 3.61333213e-02],\n",
            "       [ 4.08046522e-03],\n",
            "       [ 4.44669486e-03],\n",
            "       [ 2.08925506e-02],\n",
            "       [-5.99553963e-04],\n",
            "       [ 1.00682214e-02],\n",
            "       [ 8.71811175e-03],\n",
            "       [-5.38432508e-03],\n",
            "       [ 4.43400362e-04],\n",
            "       [ 1.90385016e-02],\n",
            "       [ 2.32286320e-02],\n",
            "       [ 1.00125940e-02],\n",
            "       [-4.71182936e-03],\n",
            "       [ 1.46950011e-02],\n",
            "       [ 1.35915311e-02],\n",
            "       [-2.02822933e-02],\n",
            "       [ 8.98046156e-03],\n",
            "       [ 7.86954220e-03],\n",
            "       [ 3.63923023e-02],\n",
            "       [ 2.41069524e-02],\n",
            "       [-1.80915153e-02],\n",
            "       [ 1.90620079e-02],\n",
            "       [-1.78103902e-02],\n",
            "       [-6.93555809e-03],\n",
            "       [ 2.45321443e-03],\n",
            "       [ 1.86319834e-02],\n",
            "       [-4.23389848e-03],\n",
            "       [ 1.38077354e-02],\n",
            "       [-1.04841861e-02],\n",
            "       [-7.57524806e-03],\n",
            "       [-2.70421615e-02],\n",
            "       [ 2.89174482e-03],\n",
            "       [ 3.28528130e-03],\n",
            "       [-1.81694615e-02],\n",
            "       [ 8.21361742e-03],\n",
            "       [-3.45355420e-03],\n",
            "       [-1.43486024e-02],\n",
            "       [ 4.12062193e-03],\n",
            "       [ 3.44884527e-02],\n",
            "       [ 1.83698597e-02],\n",
            "       [-1.46029014e-02],\n",
            "       [ 8.34248144e-03],\n",
            "       [-1.50269869e-02],\n",
            "       [-1.39759738e-02],\n",
            "       [ 1.31789298e-02],\n",
            "       [ 1.39908150e-02],\n",
            "       [ 2.61805340e-03],\n",
            "       [ 1.85211832e-02],\n",
            "       [-5.46878394e-03],\n",
            "       [ 1.53650971e-02],\n",
            "       [ 1.18735498e-02],\n",
            "       [-9.14516628e-03],\n",
            "       [ 6.94512379e-03],\n",
            "       [ 8.27134064e-03],\n",
            "       [-1.23693388e-02],\n",
            "       [-3.98828848e-03],\n",
            "       [ 1.95973450e-02],\n",
            "       [ 9.84138603e-03],\n",
            "       [ 1.55228873e-02],\n",
            "       [ 7.67247210e-03],\n",
            "       [-3.25510252e-03],\n",
            "       [-1.13545235e-02],\n",
            "       [ 5.48101417e-03],\n",
            "       [-1.61014790e-02],\n",
            "       [-7.62003084e-03],\n",
            "       [-4.36262946e-03],\n",
            "       [ 3.35349036e-02],\n",
            "       [-2.11631622e-03],\n",
            "       [ 1.21045097e-04],\n",
            "       [ 7.47669429e-03],\n",
            "       [ 6.94419426e-03],\n",
            "       [-5.86355271e-03],\n",
            "       [-9.82899407e-03],\n",
            "       [ 1.87675716e-03],\n",
            "       [-9.48040506e-03],\n",
            "       [-6.12012854e-05],\n",
            "       [ 2.79995843e-02],\n",
            "       [ 7.51279742e-03],\n",
            "       [-5.30480856e-04],\n",
            "       [-6.21067887e-03],\n",
            "       [-6.48823830e-03],\n",
            "       [-9.96296289e-03],\n",
            "       [ 4.58591832e-02],\n",
            "       [-4.03491144e-04],\n",
            "       [-1.00210721e-02],\n",
            "       [ 1.03669063e-02],\n",
            "       [ 1.09411689e-03],\n",
            "       [-5.43234609e-03],\n",
            "       [-2.90163126e-03],\n",
            "       [ 0.00000000e+00],\n",
            "       [ 3.59674680e-03],\n",
            "       [ 1.35735541e-02],\n",
            "       [ 6.28307337e-04],\n",
            "       [-5.49594039e-03],\n",
            "       [-1.52709020e-02],\n",
            "       [ 1.63066199e-03],\n",
            "       [ 6.67013014e-03],\n",
            "       [ 1.40061732e-02],\n",
            "       [ 1.06031839e-02],\n",
            "       [-2.82035242e-04],\n",
            "       [ 1.58954120e-02],\n",
            "       [ 4.76395131e-03],\n",
            "       [-7.59981280e-03],\n",
            "       [-2.06232909e-03],\n",
            "       [-7.78653519e-03],\n",
            "       [ 1.53467209e-02],\n",
            "       [ 2.15760696e-03],\n",
            "       [ 1.55175096e-02],\n",
            "       [-2.61504476e-03],\n",
            "       [ 3.48532033e-03],\n",
            "       [ 1.11365119e-02],\n",
            "       [-5.87732558e-03],\n",
            "       [ 4.86673530e-04],\n",
            "       [-5.69136738e-03],\n",
            "       [ 1.63902466e-02],\n",
            "       [-1.71280128e-03],\n",
            "       [-7.58174704e-03],\n",
            "       [ 1.49468743e-02],\n",
            "       [ 6.30791205e-03],\n",
            "       [ 1.79482573e-03],\n",
            "       [ 2.28397627e-02],\n",
            "       [-7.81518958e-03],\n",
            "       [-5.88861878e-03],\n",
            "       [ 2.50548645e-03],\n",
            "       [-5.90863357e-03],\n",
            "       [-1.09151802e-02],\n",
            "       [-2.81400979e-03],\n",
            "       [ 8.94537257e-03],\n",
            "       [ 4.04933339e-03],\n",
            "       [ 7.87053202e-04],\n",
            "       [ 1.71574217e-02],\n",
            "       [-1.34124215e-03],\n",
            "       [ 7.04691169e-03],\n",
            "       [-1.01487546e-02],\n",
            "       [-6.18071360e-03],\n",
            "       [ 4.21121171e-03],\n",
            "       [ 4.50343970e-03],\n",
            "       [ 4.53463095e-03],\n",
            "       [-6.60257905e-03],\n",
            "       [ 1.34175088e-02],\n",
            "       [ 3.16088653e-03],\n",
            "       [-4.28506473e-03],\n",
            "       [-1.56111599e-02],\n",
            "       [-7.34861230e-03],\n",
            "       [-4.92113038e-02],\n",
            "       [-1.74041376e-02],\n",
            "       [ 5.29750838e-03],\n",
            "       [-8.99463802e-03],\n",
            "       [-1.23562187e-03],\n",
            "       [ 3.37633828e-04],\n",
            "       [ 9.34932681e-03],\n",
            "       [-1.12635751e-02],\n",
            "       [-4.97130621e-03],\n",
            "       [-1.46621959e-02],\n",
            "       [ 2.81230659e-03],\n",
            "       [ 7.70675566e-03],\n",
            "       [ 7.87394994e-03],\n",
            "       [ 2.17115216e-02],\n",
            "       [-2.65189923e-02],\n",
            "       [ 1.25639456e-02],\n",
            "       [ 8.80706299e-03],\n",
            "       [ 2.15758998e-02],\n",
            "       [ 1.89906952e-02],\n",
            "       [ 1.17181071e-03],\n",
            "       [ 8.42762070e-03],\n",
            "       [ 1.26600779e-03],\n",
            "       [-3.64496127e-02],\n",
            "       [-2.96857148e-02],\n",
            "       [ 3.48577890e-03],\n",
            "       [ 6.60057915e-03],\n",
            "       [-1.72077028e-02],\n",
            "       [-1.19256945e-02],\n",
            "       [ 8.74425211e-03],\n",
            "       [-4.16265404e-03],\n",
            "       [ 1.67718938e-02],\n",
            "       [ 6.16181417e-03],\n",
            "       [-2.01947386e-02],\n",
            "       [-8.92924004e-03],\n",
            "       [ 4.93238717e-03],\n",
            "       [ 7.35313197e-03],\n",
            "       [-2.36764165e-02],\n",
            "       [-8.93723914e-03],\n",
            "       [ 1.52430223e-03],\n",
            "       [ 3.04192067e-03],\n",
            "       [ 1.47266134e-02],\n",
            "       [-7.80017573e-03],\n",
            "       [ 7.28203496e-03],\n",
            "       [ 7.17215860e-03],\n",
            "       [ 1.46426965e-02],\n",
            "       [ 8.41575123e-03],\n",
            "       [-3.35782351e-03],\n",
            "       [ 7.87293315e-03],\n",
            "       [ 5.04850506e-03],\n",
            "       [-1.03460618e-02],\n",
            "       [-7.27217048e-04],\n",
            "       [-8.82357397e-03],\n",
            "       [-7.42241000e-03],\n",
            "       [-2.16316110e-03],\n",
            "       [-1.48133657e-02],\n",
            "       [ 6.93732808e-04],\n",
            "       [ 2.54016756e-03],\n",
            "       [-1.35834629e-02],\n",
            "       [-2.49133369e-02],\n",
            "       [ 7.93765831e-03],\n",
            "       [ 1.22302617e-02],\n",
            "       [ 2.81477983e-03],\n",
            "       [ 1.85652285e-02],\n",
            "       [ 2.04819834e-02],\n",
            "       [-5.19450299e-03],\n",
            "       [ 1.44995072e-02],\n",
            "       [ 1.43475011e-02],\n",
            "       [ 5.86762069e-03],\n",
            "       [-2.62800068e-03],\n",
            "       [ 2.29545175e-02],\n",
            "       [-8.62079254e-03],\n",
            "       [ 1.41846712e-02],\n",
            "       [ 3.03632562e-03],\n",
            "       [ 9.00151437e-03],\n",
            "       [-1.05402944e-04],\n",
            "       [ 9.23543306e-03],\n",
            "       [-4.23981575e-03],\n",
            "       [ 3.50823152e-03],\n",
            "       [-7.02881408e-03],\n",
            "       [-9.47969517e-04],\n",
            "       [ 3.20883846e-03],\n",
            "       [-5.42434931e-03],\n",
            "       [ 3.05806025e-03],\n",
            "       [ 6.76844173e-03],\n",
            "       [-9.50963037e-03],\n",
            "       [ 2.08443586e-02],\n",
            "       [-5.70332672e-03],\n",
            "       [ 1.00882783e-02],\n",
            "       [ 7.38496780e-03],\n",
            "       [-1.30115161e-02],\n",
            "       [ 7.88893450e-03],\n",
            "       [ 1.65536679e-02],\n",
            "       [ 7.57405099e-04],\n",
            "       [-2.72940940e-03],\n",
            "       [-8.53977419e-03],\n",
            "       [ 5.34588926e-03],\n",
            "       [-1.07716658e-02],\n",
            "       [-7.70397289e-04],\n",
            "       [-5.56286651e-03],\n",
            "       [-2.84494604e-03],\n",
            "       [ 5.17894160e-04],\n",
            "       [ 2.22384611e-03],\n",
            "       [-5.43909019e-03],\n",
            "       [-3.64425344e-02],\n",
            "       [-7.51578813e-03],\n",
            "       [-1.27815037e-02],\n",
            "       [-4.02112769e-03],\n",
            "       [ 2.38873289e-02],\n",
            "       [-2.26598999e-03],\n",
            "       [ 5.65541757e-03],\n",
            "       [-3.22780877e-03],\n",
            "       [ 1.77649741e-03],\n",
            "       [-1.23934618e-02],\n",
            "       [-5.18690201e-03],\n",
            "       [ 3.20513385e-02],\n",
            "       [ 1.54137040e-02],\n",
            "       [ 1.20898770e-02],\n",
            "       [ 6.63119948e-03],\n",
            "       [-3.49002944e-03],\n",
            "       [-1.69806394e-03],\n",
            "       [-9.05367058e-03],\n",
            "       [-3.59224010e-03],\n",
            "       [-1.94334348e-02],\n",
            "       [-1.95473895e-02],\n",
            "       [ 1.32523954e-02],\n",
            "       [-5.41980390e-03],\n",
            "       [ 9.79839015e-03],\n",
            "       [ 8.59477669e-03],\n",
            "       [ 5.80853450e-04],\n",
            "       [-5.77117266e-03],\n",
            "       [ 4.08558077e-03],\n",
            "       [-9.04273494e-03],\n",
            "       [-1.13383831e-02],\n",
            "       [-4.82139583e-03],\n",
            "       [-1.57596798e-03],\n",
            "       [-8.46609974e-03],\n",
            "       [-4.12245927e-03],\n",
            "       [ 4.17739362e-03],\n",
            "       [ 1.11811037e-02],\n",
            "       [-1.00848119e-02],\n",
            "       [-7.47908496e-03],\n",
            "       [ 8.08157968e-03],\n",
            "       [-6.64740713e-03],\n",
            "       [-3.69993979e-03],\n",
            "       [-6.04871094e-03],\n",
            "       [-2.57089600e-02],\n",
            "       [-2.88532043e-02],\n",
            "       [-5.89557381e-03],\n",
            "       [-7.09719670e-04],\n",
            "       [ 1.01845998e-02],\n",
            "       [ 1.17621517e-02],\n",
            "       [ 2.77465203e-03],\n",
            "       [-1.21965639e-02],\n",
            "       [ 1.08679613e-02],\n",
            "       [-2.19895725e-03],\n",
            "       [ 6.35227655e-03],\n",
            "       [ 1.34935993e-02],\n",
            "       [ 1.46020678e-02],\n",
            "       [-4.17155711e-02],\n",
            "       [ 5.29612117e-03],\n",
            "       [-8.33502770e-03],\n",
            "       [-6.69490884e-03],\n",
            "       [ 2.09908002e-02],\n",
            "       [-1.06153913e-02],\n",
            "       [-8.49160685e-03],\n",
            "       [-7.02340099e-03],\n",
            "       [ 4.78590040e-03],\n",
            "       [-4.90427255e-03],\n",
            "       [ 4.49157141e-03],\n",
            "       [-6.68576019e-03],\n",
            "       [ 7.21634467e-03],\n",
            "       [-1.12017342e-02],\n",
            "       [ 4.23609248e-02],\n",
            "       [ 8.58963981e-03],\n",
            "       [-2.21060491e-02],\n",
            "       [-1.93533609e-02],\n",
            "       [-8.18076700e-03],\n",
            "       [-5.73079101e-03],\n",
            "       [-1.22876996e-02],\n",
            "       [ 5.07801585e-03],\n",
            "       [ 6.37129776e-03],\n",
            "       [ 1.26223651e-02],\n",
            "       [ 5.13404888e-03],\n",
            "       [-3.47898487e-03],\n",
            "       [ 2.45053271e-02],\n",
            "       [-1.84398581e-02],\n",
            "       [-6.06546899e-03],\n",
            "       [ 2.17927943e-02],\n",
            "       [ 5.80955020e-02],\n",
            "       [-9.14844783e-03],\n",
            "       [ 3.78999996e-03],\n",
            "       [ 1.86230790e-03],\n",
            "       [ 9.96454310e-03],\n",
            "       [-6.91410997e-03],\n",
            "       [ 1.74914812e-02],\n",
            "       [ 6.15456265e-03],\n",
            "       [ 1.21439246e-02],\n",
            "       [ 6.32263170e-04],\n",
            "       [ 1.57963077e-04],\n",
            "       [ 6.14325915e-03],\n",
            "       [ 6.83382599e-03],\n",
            "       [-7.56697668e-03],\n",
            "       [-2.12829563e-02],\n",
            "       [ 1.64520471e-02],\n",
            "       [ 5.26451618e-05],\n",
            "       [ 1.57782637e-03],\n",
            "       [ 5.24135354e-03],\n",
            "       [ 5.00594689e-03],\n",
            "       [ 9.21624495e-03],\n",
            "       [ 1.64785111e-03],\n",
            "       [ 7.79050099e-03],\n",
            "       [-7.12178720e-03],\n",
            "       [ 1.23158063e-02],\n",
            "       [-1.93334521e-02],\n",
            "       [ 7.01314357e-02],\n",
            "       [ 2.81776772e-02],\n",
            "       [ 5.47610995e-03],\n",
            "       [-8.20198851e-03],\n",
            "       [ 1.94805262e-02],\n",
            "       [-1.10452828e-02],\n",
            "       [-2.17476786e-02],\n",
            "       [-1.04993139e-02],\n",
            "       [ 3.12775576e-03],\n",
            "       [ 4.45818578e-03],\n",
            "       [ 1.97960582e-02],\n",
            "       [ 3.97807729e-03],\n",
            "       [-1.63877595e-02],\n",
            "       [ 2.86891102e-02],\n",
            "       [ 1.61094660e-02],\n",
            "       [ 5.79423013e-03],\n",
            "       [ 2.13899340e-02],\n",
            "       [ 6.51763951e-03],\n",
            "       [ 3.76774057e-03],\n",
            "       [ 1.86289899e-02],\n",
            "       [-2.34946857e-02],\n",
            "       [ 1.29664181e-02],\n",
            "       [ 1.66046880e-02],\n",
            "       [ 1.79020019e-03],\n",
            "       [-2.56213853e-02],\n",
            "       [-2.07485504e-02],\n",
            "       [ 5.79690512e-04],\n",
            "       [-1.56149767e-03],\n",
            "       [ 4.67733312e-03],\n",
            "       [-2.91757652e-02],\n",
            "       [-4.81614211e-03],\n",
            "       [ 2.15865231e-03],\n",
            "       [ 1.28383445e-03],\n",
            "       [ 2.56266486e-03],\n",
            "       [ 1.48796348e-02],\n",
            "       [-1.68926391e-02],\n",
            "       [ 6.84594254e-03],\n",
            "       [-4.93656946e-02],\n",
            "       [-9.79598807e-03],\n",
            "       [ 1.24207561e-02],\n",
            "       [ 1.64964041e-02],\n",
            "       [ 1.36424881e-02],\n",
            "       [ 7.10462459e-03],\n",
            "       [ 1.70468842e-02],\n",
            "       [ 2.03166379e-03],\n",
            "       [ 1.34398629e-02],\n",
            "       [ 5.90102487e-03],\n",
            "       [-7.08042641e-04],\n",
            "       [ 2.74089400e-03],\n",
            "       [-4.85745216e-04],\n",
            "       [-8.29397467e-03],\n",
            "       [ 1.02355414e-02],\n",
            "       [ 1.49774838e-03],\n",
            "       [ 3.73451903e-03],\n",
            "       [-6.77637034e-03],\n",
            "       [ 1.44650464e-02],\n",
            "       [-3.44380873e-03],\n",
            "       [-2.75821830e-02],\n",
            "       [-8.65605331e-03],\n",
            "       [ 6.90383113e-03],\n",
            "       [-7.03968474e-03],\n",
            "       [ 4.07436317e-04],\n",
            "       [-3.62794480e-03],\n",
            "       [ 1.15185132e-02],\n",
            "       [ 4.93902211e-04],\n",
            "       [-1.21272869e-03],\n",
            "       [-2.81682818e-02],\n",
            "       [ 2.17027477e-03],\n",
            "       [ 1.78298934e-02],\n",
            "       [ 3.63951330e-02],\n",
            "       [-2.93172849e-03],\n",
            "       [-7.60990601e-03],\n",
            "       [ 3.96612172e-03],\n",
            "       [-4.40781946e-03],\n",
            "       [ 5.06734669e-03],\n",
            "       [ 1.18598692e-03],\n",
            "       [ 2.26143467e-02],\n",
            "       [-2.95746542e-02],\n",
            "       [ 2.51658160e-03],\n",
            "       [-4.90669597e-03],\n",
            "       [ 4.99486445e-03],\n",
            "       [-2.27885676e-02],\n",
            "       [ 1.82367707e-02],\n",
            "       [ 1.65605115e-02],\n",
            "       [-2.18064627e-03],\n",
            "       [-6.52664459e-03],\n",
            "       [ 1.63455804e-02],\n",
            "       [ 1.09643056e-02],\n",
            "       [-8.89127569e-03],\n",
            "       [ 1.59509024e-03],\n",
            "       [ 1.22017781e-02],\n",
            "       [ 6.27814414e-03],\n",
            "       [-2.62518603e-03],\n",
            "       [-2.18602462e-02],\n",
            "       [-8.23628876e-04],\n",
            "       [ 3.63647598e-03],\n",
            "       [ 8.56267020e-03],\n",
            "       [ 1.15612587e-03],\n",
            "       [-1.53958407e-02],\n",
            "       [-1.83773030e-02],\n",
            "       [-1.33685921e-02],\n",
            "       [-4.04570563e-03],\n",
            "       [ 6.46524104e-03],\n",
            "       [-3.27225015e-03],\n",
            "       [ 2.11469096e-02],\n",
            "       [-1.18888150e-03],\n",
            "       [-1.21015284e-02],\n",
            "       [ 0.00000000e+00],\n",
            "       [ 3.96127994e-03],\n",
            "       [ 1.36765097e-02],\n",
            "       [-1.42096792e-02],\n",
            "       [ 1.33329609e-02],\n",
            "       [ 1.13957718e-03]]), array([0.00033523]), array([0.0172375]), array([1., 2.]), (array([0.00033528]), array([0.50432001])))\n"
          ]
        },
        {
          "output_type": "stream",
          "name": "stderr",
          "text": [
            "\n"
          ]
        }
      ]
    },
    {
      "cell_type": "markdown",
      "source": [
        "**TENSORFLOW MODEL USING LSTM**"
      ],
      "metadata": {
        "id": "fzicTKte5v_Z"
      }
    },
    {
      "cell_type": "code",
      "source": [
        "!pip uninstall keras keras-nightly keras-preprocessing keras-applications -y\n",
        "!pip install tensorflow\n",
        "import tensorflow as tf\n",
        "from sklearn.preprocessing import MinMaxScaler\n",
        "import numpy as np\n",
        "from tensorflow.keras.models import Sequential\n",
        "from tensorflow.keras.layers import LSTM, Dense"
      ],
      "metadata": {
        "colab": {
          "base_uri": "https://localhost:8080/"
        },
        "id": "zax-SgWH9LFp",
        "outputId": "bb8a3b8c-0766-4f7c-d140-7a223e64e468"
      },
      "execution_count": null,
      "outputs": [
        {
          "output_type": "stream",
          "name": "stdout",
          "text": [
            "Found existing installation: keras 3.5.0\n",
            "Uninstalling keras-3.5.0:\n",
            "  Successfully uninstalled keras-3.5.0\n",
            "\u001b[33mWARNING: Skipping keras-nightly as it is not installed.\u001b[0m\u001b[33m\n",
            "\u001b[0m\u001b[33mWARNING: Skipping keras-preprocessing as it is not installed.\u001b[0m\u001b[33m\n",
            "\u001b[0m\u001b[33mWARNING: Skipping keras-applications as it is not installed.\u001b[0m\u001b[33m\n",
            "\u001b[0mRequirement already satisfied: tensorflow in /usr/local/lib/python3.10/dist-packages (2.17.1)\n",
            "Requirement already satisfied: absl-py>=1.0.0 in /usr/local/lib/python3.10/dist-packages (from tensorflow) (1.4.0)\n",
            "Requirement already satisfied: astunparse>=1.6.0 in /usr/local/lib/python3.10/dist-packages (from tensorflow) (1.6.3)\n",
            "Requirement already satisfied: flatbuffers>=24.3.25 in /usr/local/lib/python3.10/dist-packages (from tensorflow) (24.3.25)\n",
            "Requirement already satisfied: gast!=0.5.0,!=0.5.1,!=0.5.2,>=0.2.1 in /usr/local/lib/python3.10/dist-packages (from tensorflow) (0.6.0)\n",
            "Requirement already satisfied: google-pasta>=0.1.1 in /usr/local/lib/python3.10/dist-packages (from tensorflow) (0.2.0)\n",
            "Requirement already satisfied: h5py>=3.10.0 in /usr/local/lib/python3.10/dist-packages (from tensorflow) (3.12.1)\n",
            "Requirement already satisfied: libclang>=13.0.0 in /usr/local/lib/python3.10/dist-packages (from tensorflow) (18.1.1)\n",
            "Requirement already satisfied: ml-dtypes<0.5.0,>=0.3.1 in /usr/local/lib/python3.10/dist-packages (from tensorflow) (0.4.1)\n",
            "Requirement already satisfied: opt-einsum>=2.3.2 in /usr/local/lib/python3.10/dist-packages (from tensorflow) (3.4.0)\n",
            "Requirement already satisfied: packaging in /usr/local/lib/python3.10/dist-packages (from tensorflow) (24.2)\n",
            "Requirement already satisfied: protobuf!=4.21.0,!=4.21.1,!=4.21.2,!=4.21.3,!=4.21.4,!=4.21.5,<5.0.0dev,>=3.20.3 in /usr/local/lib/python3.10/dist-packages (from tensorflow) (4.25.5)\n",
            "Requirement already satisfied: requests<3,>=2.21.0 in /usr/local/lib/python3.10/dist-packages (from tensorflow) (2.32.3)\n",
            "Requirement already satisfied: setuptools in /usr/local/lib/python3.10/dist-packages (from tensorflow) (75.1.0)\n",
            "Requirement already satisfied: six>=1.12.0 in /usr/local/lib/python3.10/dist-packages (from tensorflow) (1.16.0)\n",
            "Requirement already satisfied: termcolor>=1.1.0 in /usr/local/lib/python3.10/dist-packages (from tensorflow) (2.5.0)\n",
            "Requirement already satisfied: typing-extensions>=3.6.6 in /usr/local/lib/python3.10/dist-packages (from tensorflow) (4.12.2)\n",
            "Requirement already satisfied: wrapt>=1.11.0 in /usr/local/lib/python3.10/dist-packages (from tensorflow) (1.16.0)\n",
            "Requirement already satisfied: grpcio<2.0,>=1.24.3 in /usr/local/lib/python3.10/dist-packages (from tensorflow) (1.68.0)\n",
            "Requirement already satisfied: tensorboard<2.18,>=2.17 in /usr/local/lib/python3.10/dist-packages (from tensorflow) (2.17.1)\n",
            "Collecting keras>=3.2.0 (from tensorflow)\n",
            "  Downloading keras-3.6.0-py3-none-any.whl.metadata (5.8 kB)\n",
            "Requirement already satisfied: tensorflow-io-gcs-filesystem>=0.23.1 in /usr/local/lib/python3.10/dist-packages (from tensorflow) (0.37.1)\n",
            "Requirement already satisfied: numpy<2.0.0,>=1.23.5 in /usr/local/lib/python3.10/dist-packages (from tensorflow) (1.26.4)\n",
            "Requirement already satisfied: wheel<1.0,>=0.23.0 in /usr/local/lib/python3.10/dist-packages (from astunparse>=1.6.0->tensorflow) (0.45.0)\n",
            "Requirement already satisfied: rich in /usr/local/lib/python3.10/dist-packages (from keras>=3.2.0->tensorflow) (13.9.4)\n",
            "Requirement already satisfied: namex in /usr/local/lib/python3.10/dist-packages (from keras>=3.2.0->tensorflow) (0.0.8)\n",
            "Requirement already satisfied: optree in /usr/local/lib/python3.10/dist-packages (from keras>=3.2.0->tensorflow) (0.13.1)\n",
            "Requirement already satisfied: charset-normalizer<4,>=2 in /usr/local/lib/python3.10/dist-packages (from requests<3,>=2.21.0->tensorflow) (3.4.0)\n",
            "Requirement already satisfied: idna<4,>=2.5 in /usr/local/lib/python3.10/dist-packages (from requests<3,>=2.21.0->tensorflow) (3.10)\n",
            "Requirement already satisfied: urllib3<3,>=1.21.1 in /usr/local/lib/python3.10/dist-packages (from requests<3,>=2.21.0->tensorflow) (2.2.3)\n",
            "Requirement already satisfied: certifi>=2017.4.17 in /usr/local/lib/python3.10/dist-packages (from requests<3,>=2.21.0->tensorflow) (2024.8.30)\n",
            "Requirement already satisfied: markdown>=2.6.8 in /usr/local/lib/python3.10/dist-packages (from tensorboard<2.18,>=2.17->tensorflow) (3.7)\n",
            "Requirement already satisfied: tensorboard-data-server<0.8.0,>=0.7.0 in /usr/local/lib/python3.10/dist-packages (from tensorboard<2.18,>=2.17->tensorflow) (0.7.2)\n",
            "Requirement already satisfied: werkzeug>=1.0.1 in /usr/local/lib/python3.10/dist-packages (from tensorboard<2.18,>=2.17->tensorflow) (3.1.3)\n",
            "Requirement already satisfied: MarkupSafe>=2.1.1 in /usr/local/lib/python3.10/dist-packages (from werkzeug>=1.0.1->tensorboard<2.18,>=2.17->tensorflow) (3.0.2)\n",
            "Requirement already satisfied: markdown-it-py>=2.2.0 in /usr/local/lib/python3.10/dist-packages (from rich->keras>=3.2.0->tensorflow) (3.0.0)\n",
            "Requirement already satisfied: pygments<3.0.0,>=2.13.0 in /usr/local/lib/python3.10/dist-packages (from rich->keras>=3.2.0->tensorflow) (2.18.0)\n",
            "Requirement already satisfied: mdurl~=0.1 in /usr/local/lib/python3.10/dist-packages (from markdown-it-py>=2.2.0->rich->keras>=3.2.0->tensorflow) (0.1.2)\n",
            "Downloading keras-3.6.0-py3-none-any.whl (1.2 MB)\n",
            "\u001b[2K   \u001b[90m━━━━━━━━━━━━━━━━━━━━━━━━━━━━━━━━━━━━━━━━\u001b[0m \u001b[32m1.2/1.2 MB\u001b[0m \u001b[31m6.4 MB/s\u001b[0m eta \u001b[36m0:00:00\u001b[0m\n",
            "\u001b[?25hInstalling collected packages: keras\n",
            "Successfully installed keras-3.6.0\n"
          ]
        }
      ]
    },
    {
      "cell_type": "code",
      "source": [
        "def prepare_data(data, look_back=60):\n",
        "    X, y = [], []\n",
        "    for i in range(len(data) - look_back):\n",
        "        X.append(data[i:i + look_back])\n",
        "        y.append(data[i + look_back])\n",
        "    return np.array(X), np.array(y)"
      ],
      "metadata": {
        "id": "2WUhVKwz9PtZ"
      },
      "execution_count": null,
      "outputs": []
    },
    {
      "cell_type": "code",
      "source": [
        "def train_lstm_model(data, look_back=60, epochs=10, batch_size=32):\n",
        "    # Normalize data\n",
        "    scaler = MinMaxScaler(feature_range=(0, 1))\n",
        "    scaled_data = scaler.fit_transform(data.reshape(-1, 1))\n",
        "\n",
        "    # Prepare data for LSTM\n",
        "    X, y = prepare_data(scaled_data, look_back)\n",
        "\n",
        "    # Split into training and testing sets\n",
        "    train_size = int(len(X) * 0.8)\n",
        "    X_train, X_test = X[:train_size], X[train_size:]\n",
        "    y_train, y_test = y[:train_size], y[train_size:]\n",
        "\n",
        "    # Reshape for LSTM input\n",
        "    X_train = X_train.reshape((X_train.shape[0], X_train.shape[1], 1))\n",
        "    X_test = X_test.reshape((X_test.shape[0], X_test.shape[1], 1))\n",
        "\n",
        "    # Build LSTM model\n",
        "    model = tf.keras.Sequential([\n",
        "    tf.keras.layers.LSTM(50, return_sequences=True, input_shape=(look_back, 1)),\n",
        "    tf.keras.layers.LSTM(50, return_sequences=False),\n",
        "    tf.keras.layers.Dense(25, activation='relu'),\n",
        "    tf.keras.layers.Dense(1)\n",
        "    ])\n",
        "\n",
        "\n",
        "    model.compile(optimizer='adam', loss='mean_squared_error')\n",
        "\n",
        "    # Train the model\n",
        "    model.fit(X_train, y_train, batch_size=batch_size, epochs=epochs, verbose=1, validation_data=(X_test, y_test))\n",
        "\n",
        "    return model, scaler"
      ],
      "metadata": {
        "id": "ScRKGdfK9VNp"
      },
      "execution_count": null,
      "outputs": []
    },
    {
      "cell_type": "code",
      "source": [
        "def predict_next_day(model, scaler, data, look_back=60):\n",
        "    last_days = data[-look_back:].reshape(-1, 1)\n",
        "    last_days_scaled = scaler.transform(last_days)\n",
        "    input_data = last_days_scaled.reshape((1, look_back, 1))\n",
        "\n",
        "    prediction_scaled = model.predict(input_data)\n",
        "    prediction = scaler.inverse_transform(prediction_scaled)\n",
        "\n",
        "    return prediction[0, 0]"
      ],
      "metadata": {
        "id": "puDKG9c69efz"
      },
      "execution_count": null,
      "outputs": []
    },
    {
      "cell_type": "code",
      "source": [
        "def stock_prediction_lstm(ticker, start_date, end_date, look_back=60):\n",
        "    # Download stock data\n",
        "    data = yf.download(ticker, start=start_date, end=end_date)[\"Adj Close\"].values\n",
        "\n",
        "    # Train LSTM model\n",
        "    model, scaler = train_lstm_model(data, look_back=look_back, epochs=10, batch_size=32)\n",
        "\n",
        "    # Predict next day's price\n",
        "    next_day_price = predict_next_day(model, scaler, data, look_back=look_back)\n",
        "\n",
        "    return next_day_price"
      ],
      "metadata": {
        "id": "48W89WC29mL_"
      },
      "execution_count": null,
      "outputs": []
    },
    {
      "cell_type": "code",
      "source": [
        "# Call the function\n",
        "ticker = \"AAPL\"\n",
        "start_date = \"2022-01-01\"\n",
        "end_date = \"2024-11-21\"\n",
        "predicted_price = stock_prediction_lstm(ticker, start_date, end_date)\n",
        "print(f\"Predicted stock price for {ticker} on the next trading day: {predicted_price:.2f}\")"
      ],
      "metadata": {
        "colab": {
          "base_uri": "https://localhost:8080/"
        },
        "id": "vbjH1mXp9njf",
        "outputId": "352f7f26-1e32-410a-85ea-fedf285de8e2"
      },
      "execution_count": null,
      "outputs": [
        {
          "output_type": "stream",
          "name": "stderr",
          "text": [
            "\r[*********************100%***********************]  1 of 1 completed"
          ]
        },
        {
          "output_type": "stream",
          "name": "stdout",
          "text": [
            "Epoch 1/10\n"
          ]
        },
        {
          "output_type": "stream",
          "name": "stderr",
          "text": [
            "\n",
            "/usr/local/lib/python3.10/dist-packages/keras/src/layers/rnn/rnn.py:204: UserWarning: Do not pass an `input_shape`/`input_dim` argument to a layer. When using Sequential models, prefer using an `Input(shape)` object as the first layer in the model instead.\n",
            "  super().__init__(**kwargs)\n"
          ]
        },
        {
          "output_type": "stream",
          "name": "stdout",
          "text": [
            "\u001b[1m17/17\u001b[0m \u001b[32m━━━━━━━━━━━━━━━━━━━━\u001b[0m\u001b[37m\u001b[0m \u001b[1m4s\u001b[0m 80ms/step - loss: 0.0875 - val_loss: 0.0710\n",
            "Epoch 2/10\n",
            "\u001b[1m17/17\u001b[0m \u001b[32m━━━━━━━━━━━━━━━━━━━━\u001b[0m\u001b[37m\u001b[0m \u001b[1m2s\u001b[0m 61ms/step - loss: 0.0087 - val_loss: 0.0252\n",
            "Epoch 3/10\n",
            "\u001b[1m17/17\u001b[0m \u001b[32m━━━━━━━━━━━━━━━━━━━━\u001b[0m\u001b[37m\u001b[0m \u001b[1m1s\u001b[0m 58ms/step - loss: 0.0044 - val_loss: 0.0129\n",
            "Epoch 4/10\n",
            "\u001b[1m17/17\u001b[0m \u001b[32m━━━━━━━━━━━━━━━━━━━━\u001b[0m\u001b[37m\u001b[0m \u001b[1m1s\u001b[0m 63ms/step - loss: 0.0037 - val_loss: 0.0092\n",
            "Epoch 5/10\n",
            "\u001b[1m17/17\u001b[0m \u001b[32m━━━━━━━━━━━━━━━━━━━━\u001b[0m\u001b[37m\u001b[0m \u001b[1m1s\u001b[0m 70ms/step - loss: 0.0033 - val_loss: 0.0055\n",
            "Epoch 6/10\n",
            "\u001b[1m17/17\u001b[0m \u001b[32m━━━━━━━━━━━━━━━━━━━━\u001b[0m\u001b[37m\u001b[0m \u001b[1m2s\u001b[0m 95ms/step - loss: 0.0032 - val_loss: 0.0068\n",
            "Epoch 7/10\n",
            "\u001b[1m17/17\u001b[0m \u001b[32m━━━━━━━━━━━━━━━━━━━━\u001b[0m\u001b[37m\u001b[0m \u001b[1m2s\u001b[0m 89ms/step - loss: 0.0029 - val_loss: 0.0037\n",
            "Epoch 8/10\n",
            "\u001b[1m17/17\u001b[0m \u001b[32m━━━━━━━━━━━━━━━━━━━━\u001b[0m\u001b[37m\u001b[0m \u001b[1m1s\u001b[0m 58ms/step - loss: 0.0027 - val_loss: 0.0040\n",
            "Epoch 9/10\n",
            "\u001b[1m17/17\u001b[0m \u001b[32m━━━━━━━━━━━━━━━━━━━━\u001b[0m\u001b[37m\u001b[0m \u001b[1m1s\u001b[0m 55ms/step - loss: 0.0026 - val_loss: 0.0033\n",
            "Epoch 10/10\n",
            "\u001b[1m17/17\u001b[0m \u001b[32m━━━━━━━━━━━━━━━━━━━━\u001b[0m\u001b[37m\u001b[0m \u001b[1m1s\u001b[0m 62ms/step - loss: 0.0025 - val_loss: 0.0041\n",
            "\u001b[1m1/1\u001b[0m \u001b[32m━━━━━━━━━━━━━━━━━━━━\u001b[0m\u001b[37m\u001b[0m \u001b[1m0s\u001b[0m 283ms/step\n",
            "Predicted stock price for AAPL on the next trading day: 222.28\n"
          ]
        }
      ]
    }
  ]
}